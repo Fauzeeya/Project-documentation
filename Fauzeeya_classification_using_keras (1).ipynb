{
  "cells": [
    {
      "cell_type": "markdown",
      "metadata": {
        "id": "OUkjApiz3u0q"
      },
      "source": [
        "# **Importing libraries**"
      ]
    },
    {
      "cell_type": "code",
      "execution_count": 18,
      "metadata": {
        "id": "KtSzPee63u0r"
      },
      "outputs": [],
      "source": [
        "%matplotlib inline\n",
        "import numpy as np # linear algebra\n",
        "import pandas as pd # data processing, CSV file I/O (e.g. pd.read_csv)\n",
        "from sklearn.preprocessing import StandardScaler\n",
        "from sklearn.model_selection import train_test_split\n",
        "from sklearn.metrics import classification_report, confusion_matrix\n",
        "from sklearn.preprocessing import OneHotEncoder\n",
        "import seaborn as sns\n",
        "import matplotlib.pyplot as plt\n",
        "from keras.models import Sequential\n",
        "from keras.layers import Dense, LSTM"
      ]
    },
    {
      "cell_type": "code",
      "execution_count": 19,
      "metadata": {
        "colab": {
          "base_uri": "https://localhost:8080/",
          "height": 73,
          "resources": {
            "http://localhost:8080/nbextensions/google.colab/files.js": {
              "data": "Ly8gQ29weXJpZ2h0IDIwMTcgR29vZ2xlIExMQwovLwovLyBMaWNlbnNlZCB1bmRlciB0aGUgQXBhY2hlIExpY2Vuc2UsIFZlcnNpb24gMi4wICh0aGUgIkxpY2Vuc2UiKTsKLy8geW91IG1heSBub3QgdXNlIHRoaXMgZmlsZSBleGNlcHQgaW4gY29tcGxpYW5jZSB3aXRoIHRoZSBMaWNlbnNlLgovLyBZb3UgbWF5IG9idGFpbiBhIGNvcHkgb2YgdGhlIExpY2Vuc2UgYXQKLy8KLy8gICAgICBodHRwOi8vd3d3LmFwYWNoZS5vcmcvbGljZW5zZXMvTElDRU5TRS0yLjAKLy8KLy8gVW5sZXNzIHJlcXVpcmVkIGJ5IGFwcGxpY2FibGUgbGF3IG9yIGFncmVlZCB0byBpbiB3cml0aW5nLCBzb2Z0d2FyZQovLyBkaXN0cmlidXRlZCB1bmRlciB0aGUgTGljZW5zZSBpcyBkaXN0cmlidXRlZCBvbiBhbiAiQVMgSVMiIEJBU0lTLAovLyBXSVRIT1VUIFdBUlJBTlRJRVMgT1IgQ09ORElUSU9OUyBPRiBBTlkgS0lORCwgZWl0aGVyIGV4cHJlc3Mgb3IgaW1wbGllZC4KLy8gU2VlIHRoZSBMaWNlbnNlIGZvciB0aGUgc3BlY2lmaWMgbGFuZ3VhZ2UgZ292ZXJuaW5nIHBlcm1pc3Npb25zIGFuZAovLyBsaW1pdGF0aW9ucyB1bmRlciB0aGUgTGljZW5zZS4KCi8qKgogKiBAZmlsZW92ZXJ2aWV3IEhlbHBlcnMgZm9yIGdvb2dsZS5jb2xhYiBQeXRob24gbW9kdWxlLgogKi8KKGZ1bmN0aW9uKHNjb3BlKSB7CmZ1bmN0aW9uIHNwYW4odGV4dCwgc3R5bGVBdHRyaWJ1dGVzID0ge30pIHsKICBjb25zdCBlbGVtZW50ID0gZG9jdW1lbnQuY3JlYXRlRWxlbWVudCgnc3BhbicpOwogIGVsZW1lbnQudGV4dENvbnRlbnQgPSB0ZXh0OwogIGZvciAoY29uc3Qga2V5IG9mIE9iamVjdC5rZXlzKHN0eWxlQXR0cmlidXRlcykpIHsKICAgIGVsZW1lbnQuc3R5bGVba2V5XSA9IHN0eWxlQXR0cmlidXRlc1trZXldOwogIH0KICByZXR1cm4gZWxlbWVudDsKfQoKLy8gTWF4IG51bWJlciBvZiBieXRlcyB3aGljaCB3aWxsIGJlIHVwbG9hZGVkIGF0IGEgdGltZS4KY29uc3QgTUFYX1BBWUxPQURfU0laRSA9IDEwMCAqIDEwMjQ7CgpmdW5jdGlvbiBfdXBsb2FkRmlsZXMoaW5wdXRJZCwgb3V0cHV0SWQpIHsKICBjb25zdCBzdGVwcyA9IHVwbG9hZEZpbGVzU3RlcChpbnB1dElkLCBvdXRwdXRJZCk7CiAgY29uc3Qgb3V0cHV0RWxlbWVudCA9IGRvY3VtZW50LmdldEVsZW1lbnRCeUlkKG91dHB1dElkKTsKICAvLyBDYWNoZSBzdGVwcyBvbiB0aGUgb3V0cHV0RWxlbWVudCB0byBtYWtlIGl0IGF2YWlsYWJsZSBmb3IgdGhlIG5leHQgY2FsbAogIC8vIHRvIHVwbG9hZEZpbGVzQ29udGludWUgZnJvbSBQeXRob24uCiAgb3V0cHV0RWxlbWVudC5zdGVwcyA9IHN0ZXBzOwoKICByZXR1cm4gX3VwbG9hZEZpbGVzQ29udGludWUob3V0cHV0SWQpOwp9CgovLyBUaGlzIGlzIHJvdWdobHkgYW4gYXN5bmMgZ2VuZXJhdG9yIChub3Qgc3VwcG9ydGVkIGluIHRoZSBicm93c2VyIHlldCksCi8vIHdoZXJlIHRoZXJlIGFyZSBtdWx0aXBsZSBhc3luY2hyb25vdXMgc3RlcHMgYW5kIHRoZSBQeXRob24gc2lkZSBpcyBnb2luZwovLyB0byBwb2xsIGZvciBjb21wbGV0aW9uIG9mIGVhY2ggc3RlcC4KLy8gVGhpcyB1c2VzIGEgUHJvbWlzZSB0byBibG9jayB0aGUgcHl0aG9uIHNpZGUgb24gY29tcGxldGlvbiBvZiBlYWNoIHN0ZXAsCi8vIHRoZW4gcGFzc2VzIHRoZSByZXN1bHQgb2YgdGhlIHByZXZpb3VzIHN0ZXAgYXMgdGhlIGlucHV0IHRvIHRoZSBuZXh0IHN0ZXAuCmZ1bmN0aW9uIF91cGxvYWRGaWxlc0NvbnRpbnVlKG91dHB1dElkKSB7CiAgY29uc3Qgb3V0cHV0RWxlbWVudCA9IGRvY3VtZW50LmdldEVsZW1lbnRCeUlkKG91dHB1dElkKTsKICBjb25zdCBzdGVwcyA9IG91dHB1dEVsZW1lbnQuc3RlcHM7CgogIGNvbnN0IG5leHQgPSBzdGVwcy5uZXh0KG91dHB1dEVsZW1lbnQubGFzdFByb21pc2VWYWx1ZSk7CiAgcmV0dXJuIFByb21pc2UucmVzb2x2ZShuZXh0LnZhbHVlLnByb21pc2UpLnRoZW4oKHZhbHVlKSA9PiB7CiAgICAvLyBDYWNoZSB0aGUgbGFzdCBwcm9taXNlIHZhbHVlIHRvIG1ha2UgaXQgYXZhaWxhYmxlIHRvIHRoZSBuZXh0CiAgICAvLyBzdGVwIG9mIHRoZSBnZW5lcmF0b3IuCiAgICBvdXRwdXRFbGVtZW50Lmxhc3RQcm9taXNlVmFsdWUgPSB2YWx1ZTsKICAgIHJldHVybiBuZXh0LnZhbHVlLnJlc3BvbnNlOwogIH0pOwp9CgovKioKICogR2VuZXJhdG9yIGZ1bmN0aW9uIHdoaWNoIGlzIGNhbGxlZCBiZXR3ZWVuIGVhY2ggYXN5bmMgc3RlcCBvZiB0aGUgdXBsb2FkCiAqIHByb2Nlc3MuCiAqIEBwYXJhbSB7c3RyaW5nfSBpbnB1dElkIEVsZW1lbnQgSUQgb2YgdGhlIGlucHV0IGZpbGUgcGlja2VyIGVsZW1lbnQuCiAqIEBwYXJhbSB7c3RyaW5nfSBvdXRwdXRJZCBFbGVtZW50IElEIG9mIHRoZSBvdXRwdXQgZGlzcGxheS4KICogQHJldHVybiB7IUl0ZXJhYmxlPCFPYmplY3Q+fSBJdGVyYWJsZSBvZiBuZXh0IHN0ZXBzLgogKi8KZnVuY3Rpb24qIHVwbG9hZEZpbGVzU3RlcChpbnB1dElkLCBvdXRwdXRJZCkgewogIGNvbnN0IGlucHV0RWxlbWVudCA9IGRvY3VtZW50LmdldEVsZW1lbnRCeUlkKGlucHV0SWQpOwogIGlucHV0RWxlbWVudC5kaXNhYmxlZCA9IGZhbHNlOwoKICBjb25zdCBvdXRwdXRFbGVtZW50ID0gZG9jdW1lbnQuZ2V0RWxlbWVudEJ5SWQob3V0cHV0SWQpOwogIG91dHB1dEVsZW1lbnQuaW5uZXJIVE1MID0gJyc7CgogIGNvbnN0IHBpY2tlZFByb21pc2UgPSBuZXcgUHJvbWlzZSgocmVzb2x2ZSkgPT4gewogICAgaW5wdXRFbGVtZW50LmFkZEV2ZW50TGlzdGVuZXIoJ2NoYW5nZScsIChlKSA9PiB7CiAgICAgIHJlc29sdmUoZS50YXJnZXQuZmlsZXMpOwogICAgfSk7CiAgfSk7CgogIGNvbnN0IGNhbmNlbCA9IGRvY3VtZW50LmNyZWF0ZUVsZW1lbnQoJ2J1dHRvbicpOwogIGlucHV0RWxlbWVudC5wYXJlbnRFbGVtZW50LmFwcGVuZENoaWxkKGNhbmNlbCk7CiAgY2FuY2VsLnRleHRDb250ZW50ID0gJ0NhbmNlbCB1cGxvYWQnOwogIGNvbnN0IGNhbmNlbFByb21pc2UgPSBuZXcgUHJvbWlzZSgocmVzb2x2ZSkgPT4gewogICAgY2FuY2VsLm9uY2xpY2sgPSAoKSA9PiB7CiAgICAgIHJlc29sdmUobnVsbCk7CiAgICB9OwogIH0pOwoKICAvLyBXYWl0IGZvciB0aGUgdXNlciB0byBwaWNrIHRoZSBmaWxlcy4KICBjb25zdCBmaWxlcyA9IHlpZWxkIHsKICAgIHByb21pc2U6IFByb21pc2UucmFjZShbcGlja2VkUHJvbWlzZSwgY2FuY2VsUHJvbWlzZV0pLAogICAgcmVzcG9uc2U6IHsKICAgICAgYWN0aW9uOiAnc3RhcnRpbmcnLAogICAgfQogIH07CgogIGNhbmNlbC5yZW1vdmUoKTsKCiAgLy8gRGlzYWJsZSB0aGUgaW5wdXQgZWxlbWVudCBzaW5jZSBmdXJ0aGVyIHBpY2tzIGFyZSBub3QgYWxsb3dlZC4KICBpbnB1dEVsZW1lbnQuZGlzYWJsZWQgPSB0cnVlOwoKICBpZiAoIWZpbGVzKSB7CiAgICByZXR1cm4gewogICAgICByZXNwb25zZTogewogICAgICAgIGFjdGlvbjogJ2NvbXBsZXRlJywKICAgICAgfQogICAgfTsKICB9CgogIGZvciAoY29uc3QgZmlsZSBvZiBmaWxlcykgewogICAgY29uc3QgbGkgPSBkb2N1bWVudC5jcmVhdGVFbGVtZW50KCdsaScpOwogICAgbGkuYXBwZW5kKHNwYW4oZmlsZS5uYW1lLCB7Zm9udFdlaWdodDogJ2JvbGQnfSkpOwogICAgbGkuYXBwZW5kKHNwYW4oCiAgICAgICAgYCgke2ZpbGUudHlwZSB8fCAnbi9hJ30pIC0gJHtmaWxlLnNpemV9IGJ5dGVzLCBgICsKICAgICAgICBgbGFzdCBtb2RpZmllZDogJHsKICAgICAgICAgICAgZmlsZS5sYXN0TW9kaWZpZWREYXRlID8gZmlsZS5sYXN0TW9kaWZpZWREYXRlLnRvTG9jYWxlRGF0ZVN0cmluZygpIDoKICAgICAgICAgICAgICAgICAgICAgICAgICAgICAgICAgICAgJ24vYSd9IC0gYCkpOwogICAgY29uc3QgcGVyY2VudCA9IHNwYW4oJzAlIGRvbmUnKTsKICAgIGxpLmFwcGVuZENoaWxkKHBlcmNlbnQpOwoKICAgIG91dHB1dEVsZW1lbnQuYXBwZW5kQ2hpbGQobGkpOwoKICAgIGNvbnN0IGZpbGVEYXRhUHJvbWlzZSA9IG5ldyBQcm9taXNlKChyZXNvbHZlKSA9PiB7CiAgICAgIGNvbnN0IHJlYWRlciA9IG5ldyBGaWxlUmVhZGVyKCk7CiAgICAgIHJlYWRlci5vbmxvYWQgPSAoZSkgPT4gewogICAgICAgIHJlc29sdmUoZS50YXJnZXQucmVzdWx0KTsKICAgICAgfTsKICAgICAgcmVhZGVyLnJlYWRBc0FycmF5QnVmZmVyKGZpbGUpOwogICAgfSk7CiAgICAvLyBXYWl0IGZvciB0aGUgZGF0YSB0byBiZSByZWFkeS4KICAgIGxldCBmaWxlRGF0YSA9IHlpZWxkIHsKICAgICAgcHJvbWlzZTogZmlsZURhdGFQcm9taXNlLAogICAgICByZXNwb25zZTogewogICAgICAgIGFjdGlvbjogJ2NvbnRpbnVlJywKICAgICAgfQogICAgfTsKCiAgICAvLyBVc2UgYSBjaHVua2VkIHNlbmRpbmcgdG8gYXZvaWQgbWVzc2FnZSBzaXplIGxpbWl0cy4gU2VlIGIvNjIxMTU2NjAuCiAgICBsZXQgcG9zaXRpb24gPSAwOwogICAgZG8gewogICAgICBjb25zdCBsZW5ndGggPSBNYXRoLm1pbihmaWxlRGF0YS5ieXRlTGVuZ3RoIC0gcG9zaXRpb24sIE1BWF9QQVlMT0FEX1NJWkUpOwogICAgICBjb25zdCBjaHVuayA9IG5ldyBVaW50OEFycmF5KGZpbGVEYXRhLCBwb3NpdGlvbiwgbGVuZ3RoKTsKICAgICAgcG9zaXRpb24gKz0gbGVuZ3RoOwoKICAgICAgY29uc3QgYmFzZTY0ID0gYnRvYShTdHJpbmcuZnJvbUNoYXJDb2RlLmFwcGx5KG51bGwsIGNodW5rKSk7CiAgICAgIHlpZWxkIHsKICAgICAgICByZXNwb25zZTogewogICAgICAgICAgYWN0aW9uOiAnYXBwZW5kJywKICAgICAgICAgIGZpbGU6IGZpbGUubmFtZSwKICAgICAgICAgIGRhdGE6IGJhc2U2NCwKICAgICAgICB9LAogICAgICB9OwoKICAgICAgbGV0IHBlcmNlbnREb25lID0gZmlsZURhdGEuYnl0ZUxlbmd0aCA9PT0gMCA/CiAgICAgICAgICAxMDAgOgogICAgICAgICAgTWF0aC5yb3VuZCgocG9zaXRpb24gLyBmaWxlRGF0YS5ieXRlTGVuZ3RoKSAqIDEwMCk7CiAgICAgIHBlcmNlbnQudGV4dENvbnRlbnQgPSBgJHtwZXJjZW50RG9uZX0lIGRvbmVgOwoKICAgIH0gd2hpbGUgKHBvc2l0aW9uIDwgZmlsZURhdGEuYnl0ZUxlbmd0aCk7CiAgfQoKICAvLyBBbGwgZG9uZS4KICB5aWVsZCB7CiAgICByZXNwb25zZTogewogICAgICBhY3Rpb246ICdjb21wbGV0ZScsCiAgICB9CiAgfTsKfQoKc2NvcGUuZ29vZ2xlID0gc2NvcGUuZ29vZ2xlIHx8IHt9OwpzY29wZS5nb29nbGUuY29sYWIgPSBzY29wZS5nb29nbGUuY29sYWIgfHwge307CnNjb3BlLmdvb2dsZS5jb2xhYi5fZmlsZXMgPSB7CiAgX3VwbG9hZEZpbGVzLAogIF91cGxvYWRGaWxlc0NvbnRpbnVlLAp9Owp9KShzZWxmKTsK",
              "headers": [
                [
                  "content-type",
                  "application/javascript"
                ]
              ],
              "ok": true,
              "status": 200,
              "status_text": ""
            }
          }
        },
        "id": "G844PnAQDCq5",
        "outputId": "20fc7385-bdb8-40e9-f964-b98ccf490358"
      },
      "outputs": [
        {
          "output_type": "display_data",
          "data": {
            "text/plain": [
              "<IPython.core.display.HTML object>"
            ],
            "text/html": [
              "\n",
              "     <input type=\"file\" id=\"files-75fe669d-7b48-4f75-93a0-04ed2b1f96a6\" name=\"files[]\" multiple disabled\n",
              "        style=\"border:none\" />\n",
              "     <output id=\"result-75fe669d-7b48-4f75-93a0-04ed2b1f96a6\">\n",
              "      Upload widget is only available when the cell has been executed in the\n",
              "      current browser session. Please rerun this cell to enable.\n",
              "      </output>\n",
              "      <script src=\"/nbextensions/google.colab/files.js\"></script> "
            ]
          },
          "metadata": {}
        },
        {
          "output_type": "stream",
          "name": "stdout",
          "text": [
            "Saving Crop_recommendation.csv to Crop_recommendation (1).csv\n"
          ]
        }
      ],
      "source": [
        "from google.colab import files\n",
        "uploaded = files.upload()"
      ]
    },
    {
      "cell_type": "markdown",
      "metadata": {
        "id": "2VHiJFZc3u0s"
      },
      "source": [
        "# **Data loading and visualising.**"
      ]
    },
    {
      "cell_type": "code",
      "execution_count": 20,
      "metadata": {
        "colab": {
          "base_uri": "https://localhost:8080/",
          "height": 206
        },
        "id": "Es7hHMYU3u0s",
        "outputId": "17c7ed5b-5418-4e77-b96b-549276c3d59a"
      },
      "outputs": [
        {
          "output_type": "execute_result",
          "data": {
            "text/plain": [
              "    N   P   K  temperature   humidity        ph    rainfall label\n",
              "0  90  42  43    20.879744  82.002744  6.502985  202.935536  rice\n",
              "1  85  58  41    21.770462  80.319644  7.038096  226.655537  rice\n",
              "2  60  55  44    23.004459  82.320763  7.840207  263.964248  rice\n",
              "3  74  35  40    26.491096  80.158363  6.980401  242.864034  rice\n",
              "4  78  42  42    20.130175  81.604873  7.628473  262.717340  rice"
            ],
            "text/html": [
              "\n",
              "  <div id=\"df-4a2829c9-bf6e-4475-8024-608c8a3e4d9b\">\n",
              "    <div class=\"colab-df-container\">\n",
              "      <div>\n",
              "<style scoped>\n",
              "    .dataframe tbody tr th:only-of-type {\n",
              "        vertical-align: middle;\n",
              "    }\n",
              "\n",
              "    .dataframe tbody tr th {\n",
              "        vertical-align: top;\n",
              "    }\n",
              "\n",
              "    .dataframe thead th {\n",
              "        text-align: right;\n",
              "    }\n",
              "</style>\n",
              "<table border=\"1\" class=\"dataframe\">\n",
              "  <thead>\n",
              "    <tr style=\"text-align: right;\">\n",
              "      <th></th>\n",
              "      <th>N</th>\n",
              "      <th>P</th>\n",
              "      <th>K</th>\n",
              "      <th>temperature</th>\n",
              "      <th>humidity</th>\n",
              "      <th>ph</th>\n",
              "      <th>rainfall</th>\n",
              "      <th>label</th>\n",
              "    </tr>\n",
              "  </thead>\n",
              "  <tbody>\n",
              "    <tr>\n",
              "      <th>0</th>\n",
              "      <td>90</td>\n",
              "      <td>42</td>\n",
              "      <td>43</td>\n",
              "      <td>20.879744</td>\n",
              "      <td>82.002744</td>\n",
              "      <td>6.502985</td>\n",
              "      <td>202.935536</td>\n",
              "      <td>rice</td>\n",
              "    </tr>\n",
              "    <tr>\n",
              "      <th>1</th>\n",
              "      <td>85</td>\n",
              "      <td>58</td>\n",
              "      <td>41</td>\n",
              "      <td>21.770462</td>\n",
              "      <td>80.319644</td>\n",
              "      <td>7.038096</td>\n",
              "      <td>226.655537</td>\n",
              "      <td>rice</td>\n",
              "    </tr>\n",
              "    <tr>\n",
              "      <th>2</th>\n",
              "      <td>60</td>\n",
              "      <td>55</td>\n",
              "      <td>44</td>\n",
              "      <td>23.004459</td>\n",
              "      <td>82.320763</td>\n",
              "      <td>7.840207</td>\n",
              "      <td>263.964248</td>\n",
              "      <td>rice</td>\n",
              "    </tr>\n",
              "    <tr>\n",
              "      <th>3</th>\n",
              "      <td>74</td>\n",
              "      <td>35</td>\n",
              "      <td>40</td>\n",
              "      <td>26.491096</td>\n",
              "      <td>80.158363</td>\n",
              "      <td>6.980401</td>\n",
              "      <td>242.864034</td>\n",
              "      <td>rice</td>\n",
              "    </tr>\n",
              "    <tr>\n",
              "      <th>4</th>\n",
              "      <td>78</td>\n",
              "      <td>42</td>\n",
              "      <td>42</td>\n",
              "      <td>20.130175</td>\n",
              "      <td>81.604873</td>\n",
              "      <td>7.628473</td>\n",
              "      <td>262.717340</td>\n",
              "      <td>rice</td>\n",
              "    </tr>\n",
              "  </tbody>\n",
              "</table>\n",
              "</div>\n",
              "      <button class=\"colab-df-convert\" onclick=\"convertToInteractive('df-4a2829c9-bf6e-4475-8024-608c8a3e4d9b')\"\n",
              "              title=\"Convert this dataframe to an interactive table.\"\n",
              "              style=\"display:none;\">\n",
              "        \n",
              "  <svg xmlns=\"http://www.w3.org/2000/svg\" height=\"24px\"viewBox=\"0 0 24 24\"\n",
              "       width=\"24px\">\n",
              "    <path d=\"M0 0h24v24H0V0z\" fill=\"none\"/>\n",
              "    <path d=\"M18.56 5.44l.94 2.06.94-2.06 2.06-.94-2.06-.94-.94-2.06-.94 2.06-2.06.94zm-11 1L8.5 8.5l.94-2.06 2.06-.94-2.06-.94L8.5 2.5l-.94 2.06-2.06.94zm10 10l.94 2.06.94-2.06 2.06-.94-2.06-.94-.94-2.06-.94 2.06-2.06.94z\"/><path d=\"M17.41 7.96l-1.37-1.37c-.4-.4-.92-.59-1.43-.59-.52 0-1.04.2-1.43.59L10.3 9.45l-7.72 7.72c-.78.78-.78 2.05 0 2.83L4 21.41c.39.39.9.59 1.41.59.51 0 1.02-.2 1.41-.59l7.78-7.78 2.81-2.81c.8-.78.8-2.07 0-2.86zM5.41 20L4 18.59l7.72-7.72 1.47 1.35L5.41 20z\"/>\n",
              "  </svg>\n",
              "      </button>\n",
              "      \n",
              "  <style>\n",
              "    .colab-df-container {\n",
              "      display:flex;\n",
              "      flex-wrap:wrap;\n",
              "      gap: 12px;\n",
              "    }\n",
              "\n",
              "    .colab-df-convert {\n",
              "      background-color: #E8F0FE;\n",
              "      border: none;\n",
              "      border-radius: 50%;\n",
              "      cursor: pointer;\n",
              "      display: none;\n",
              "      fill: #1967D2;\n",
              "      height: 32px;\n",
              "      padding: 0 0 0 0;\n",
              "      width: 32px;\n",
              "    }\n",
              "\n",
              "    .colab-df-convert:hover {\n",
              "      background-color: #E2EBFA;\n",
              "      box-shadow: 0px 1px 2px rgba(60, 64, 67, 0.3), 0px 1px 3px 1px rgba(60, 64, 67, 0.15);\n",
              "      fill: #174EA6;\n",
              "    }\n",
              "\n",
              "    [theme=dark] .colab-df-convert {\n",
              "      background-color: #3B4455;\n",
              "      fill: #D2E3FC;\n",
              "    }\n",
              "\n",
              "    [theme=dark] .colab-df-convert:hover {\n",
              "      background-color: #434B5C;\n",
              "      box-shadow: 0px 1px 3px 1px rgba(0, 0, 0, 0.15);\n",
              "      filter: drop-shadow(0px 1px 2px rgba(0, 0, 0, 0.3));\n",
              "      fill: #FFFFFF;\n",
              "    }\n",
              "  </style>\n",
              "\n",
              "      <script>\n",
              "        const buttonEl =\n",
              "          document.querySelector('#df-4a2829c9-bf6e-4475-8024-608c8a3e4d9b button.colab-df-convert');\n",
              "        buttonEl.style.display =\n",
              "          google.colab.kernel.accessAllowed ? 'block' : 'none';\n",
              "\n",
              "        async function convertToInteractive(key) {\n",
              "          const element = document.querySelector('#df-4a2829c9-bf6e-4475-8024-608c8a3e4d9b');\n",
              "          const dataTable =\n",
              "            await google.colab.kernel.invokeFunction('convertToInteractive',\n",
              "                                                     [key], {});\n",
              "          if (!dataTable) return;\n",
              "\n",
              "          const docLinkHtml = 'Like what you see? Visit the ' +\n",
              "            '<a target=\"_blank\" href=https://colab.research.google.com/notebooks/data_table.ipynb>data table notebook</a>'\n",
              "            + ' to learn more about interactive tables.';\n",
              "          element.innerHTML = '';\n",
              "          dataTable['output_type'] = 'display_data';\n",
              "          await google.colab.output.renderOutput(dataTable, element);\n",
              "          const docLink = document.createElement('div');\n",
              "          docLink.innerHTML = docLinkHtml;\n",
              "          element.appendChild(docLink);\n",
              "        }\n",
              "      </script>\n",
              "    </div>\n",
              "  </div>\n",
              "  "
            ]
          },
          "metadata": {},
          "execution_count": 20
        }
      ],
      "source": [
        "data = pd.read_csv('Crop_recommendation.csv')\n",
        "data.head()"
      ]
    },
    {
      "cell_type": "code",
      "execution_count": 21,
      "metadata": {
        "colab": {
          "base_uri": "https://localhost:8080/"
        },
        "id": "XRt5pZxZGN9p",
        "outputId": "21c9d3d0-6b3f-4490-91c9-82abcb1fcb28"
      },
      "outputs": [
        {
          "output_type": "execute_result",
          "data": {
            "text/plain": [
              "array(['rice', 'maize', 'chickpea', 'kidneybeans', 'pigeonpeas',\n",
              "       'mothbeans', 'mungbean', 'blackgram', 'lentil', 'pomegranate',\n",
              "       'banana', 'mango', 'grapes', 'watermelon', 'muskmelon', 'apple',\n",
              "       'orange', 'papaya', 'coconut', 'cotton', 'jute', 'coffee'],\n",
              "      dtype=object)"
            ]
          },
          "metadata": {},
          "execution_count": 21
        }
      ],
      "source": [
        "data['label'].unique()"
      ]
    },
    {
      "cell_type": "markdown",
      "metadata": {
        "id": "wFLSteRb3u0w"
      },
      "source": [
        "# **Dividing data into training and testing parts**"
      ]
    },
    {
      "cell_type": "code",
      "execution_count": 22,
      "metadata": {
        "colab": {
          "base_uri": "https://localhost:8080/"
        },
        "id": "sfvYX8akNSj4",
        "outputId": "39c2d2b1-a4e4-4471-db93-c8c133a53295"
      },
      "outputs": [
        {
          "output_type": "execute_result",
          "data": {
            "text/plain": [
              "(array([[ 90.        ,  42.        ,  43.        , ...,  82.00274423,\n",
              "           6.50298529, 202.9355362 ],\n",
              "        [ 85.        ,  58.        ,  41.        , ...,  80.31964408,\n",
              "           7.03809636, 226.6555374 ],\n",
              "        [ 60.        ,  55.        ,  44.        , ...,  82.3207629 ,\n",
              "           7.84020714, 263.9642476 ],\n",
              "        ...,\n",
              "        [118.        ,  33.        ,  30.        , ...,  67.22512329,\n",
              "           6.36260785, 173.3228386 ],\n",
              "        [117.        ,  32.        ,  34.        , ...,  52.12739421,\n",
              "           6.75879255, 127.1752928 ],\n",
              "        [104.        ,  18.        ,  30.        , ...,  60.39647474,\n",
              "           6.77983261, 140.9370415 ]]), array([[0., 0., 0., ..., 0., 1., 0.],\n",
              "        [0., 0., 0., ..., 0., 1., 0.],\n",
              "        [0., 0., 0., ..., 0., 1., 0.],\n",
              "        ...,\n",
              "        [0., 0., 0., ..., 0., 0., 0.],\n",
              "        [0., 0., 0., ..., 0., 0., 0.],\n",
              "        [0., 0., 0., ..., 0., 0., 0.]]))"
            ]
          },
          "metadata": {},
          "execution_count": 22
        }
      ],
      "source": [
        "X = data.iloc[:, 0:-1].values # iloc is function for indexing of dataframes.\n",
        "Y = data.label.values\n",
        "\n",
        "# OneHotEncoding\n",
        "encoder = OneHotEncoder() # using encoding of class_type as this is a multi class problem.\n",
        "Y = encoder.fit_transform(Y.reshape(-1,1)).toarray() # fitting our data to encoder.\n",
        "\n",
        "X, Y"
      ]
    },
    {
      "cell_type": "code",
      "execution_count": 23,
      "metadata": {
        "id": "uHKo8qkvNWo9"
      },
      "outputs": [],
      "source": [
        "# train_test_split is a function used to split our data for training and testing purpose.\n",
        "x_train, x_test, y_train, y_test = train_test_split(X, Y, random_state=0, test_size=0.2)"
      ]
    },
    {
      "cell_type": "markdown",
      "metadata": {
        "id": "DxXo8c4-KHB5"
      },
      "source": [
        "# **MLP**"
      ]
    },
    {
      "cell_type": "code",
      "execution_count": 24,
      "metadata": {
        "colab": {
          "base_uri": "https://localhost:8080/"
        },
        "id": "F2Pe4XXXKL5G",
        "outputId": "537dba27-8cc3-437f-8574-f8a94304b681"
      },
      "outputs": [
        {
          "output_type": "stream",
          "name": "stderr",
          "text": [
            "/usr/local/lib/python3.7/dist-packages/sklearn/neural_network/_multilayer_perceptron.py:696: ConvergenceWarning: Stochastic Optimizer: Maximum iterations (500) reached and the optimization hasn't converged yet.\n",
            "  ConvergenceWarning,\n"
          ]
        }
      ],
      "source": [
        "from sklearn.neural_network import MLPClassifier\n",
        "\n",
        "mlp = MLPClassifier(hidden_layer_sizes=(7,22), max_iter=500, activation='relu')\n",
        "mlp.fit(x_train, y_train)\n",
        "pred = mlp.predict(x_test)"
      ]
    },
    {
      "cell_type": "code",
      "source": [
        "y_pred_con = mlp.predict(x_test)\n",
        "y_pred, y_correct = [], []\n",
        "\n",
        "for i in y_test:\n",
        "    y_correct.append(np.argmax(i))\n",
        "for j in y_pred_con:\n",
        "    y_pred.append(np.argmax(j))\n",
        "    \n",
        "pred_df = pd.DataFrame()\n",
        "pred_df['Pred_class'] = y_pred\n",
        "pred_df['Correct_class'] = y_correct\n",
        "pred_df"
      ],
      "metadata": {
        "colab": {
          "base_uri": "https://localhost:8080/",
          "height": 424
        },
        "id": "FqiXApQOuJQz",
        "outputId": "e9c31b19-32a2-49cf-a7b5-b7b0238aa498"
      },
      "execution_count": 25,
      "outputs": [
        {
          "output_type": "execute_result",
          "data": {
            "text/plain": [
              "     Pred_class  Correct_class\n",
              "0            21             21\n",
              "1            21             21\n",
              "2             7              7\n",
              "3             3              3\n",
              "4             2              2\n",
              "..          ...            ...\n",
              "435          18             18\n",
              "436           1              1\n",
              "437           6              6\n",
              "438           0              2\n",
              "439           0              0\n",
              "\n",
              "[440 rows x 2 columns]"
            ],
            "text/html": [
              "\n",
              "  <div id=\"df-6f1f7d8a-823d-464d-bb07-ca4e388b8366\">\n",
              "    <div class=\"colab-df-container\">\n",
              "      <div>\n",
              "<style scoped>\n",
              "    .dataframe tbody tr th:only-of-type {\n",
              "        vertical-align: middle;\n",
              "    }\n",
              "\n",
              "    .dataframe tbody tr th {\n",
              "        vertical-align: top;\n",
              "    }\n",
              "\n",
              "    .dataframe thead th {\n",
              "        text-align: right;\n",
              "    }\n",
              "</style>\n",
              "<table border=\"1\" class=\"dataframe\">\n",
              "  <thead>\n",
              "    <tr style=\"text-align: right;\">\n",
              "      <th></th>\n",
              "      <th>Pred_class</th>\n",
              "      <th>Correct_class</th>\n",
              "    </tr>\n",
              "  </thead>\n",
              "  <tbody>\n",
              "    <tr>\n",
              "      <th>0</th>\n",
              "      <td>21</td>\n",
              "      <td>21</td>\n",
              "    </tr>\n",
              "    <tr>\n",
              "      <th>1</th>\n",
              "      <td>21</td>\n",
              "      <td>21</td>\n",
              "    </tr>\n",
              "    <tr>\n",
              "      <th>2</th>\n",
              "      <td>7</td>\n",
              "      <td>7</td>\n",
              "    </tr>\n",
              "    <tr>\n",
              "      <th>3</th>\n",
              "      <td>3</td>\n",
              "      <td>3</td>\n",
              "    </tr>\n",
              "    <tr>\n",
              "      <th>4</th>\n",
              "      <td>2</td>\n",
              "      <td>2</td>\n",
              "    </tr>\n",
              "    <tr>\n",
              "      <th>...</th>\n",
              "      <td>...</td>\n",
              "      <td>...</td>\n",
              "    </tr>\n",
              "    <tr>\n",
              "      <th>435</th>\n",
              "      <td>18</td>\n",
              "      <td>18</td>\n",
              "    </tr>\n",
              "    <tr>\n",
              "      <th>436</th>\n",
              "      <td>1</td>\n",
              "      <td>1</td>\n",
              "    </tr>\n",
              "    <tr>\n",
              "      <th>437</th>\n",
              "      <td>6</td>\n",
              "      <td>6</td>\n",
              "    </tr>\n",
              "    <tr>\n",
              "      <th>438</th>\n",
              "      <td>0</td>\n",
              "      <td>2</td>\n",
              "    </tr>\n",
              "    <tr>\n",
              "      <th>439</th>\n",
              "      <td>0</td>\n",
              "      <td>0</td>\n",
              "    </tr>\n",
              "  </tbody>\n",
              "</table>\n",
              "<p>440 rows × 2 columns</p>\n",
              "</div>\n",
              "      <button class=\"colab-df-convert\" onclick=\"convertToInteractive('df-6f1f7d8a-823d-464d-bb07-ca4e388b8366')\"\n",
              "              title=\"Convert this dataframe to an interactive table.\"\n",
              "              style=\"display:none;\">\n",
              "        \n",
              "  <svg xmlns=\"http://www.w3.org/2000/svg\" height=\"24px\"viewBox=\"0 0 24 24\"\n",
              "       width=\"24px\">\n",
              "    <path d=\"M0 0h24v24H0V0z\" fill=\"none\"/>\n",
              "    <path d=\"M18.56 5.44l.94 2.06.94-2.06 2.06-.94-2.06-.94-.94-2.06-.94 2.06-2.06.94zm-11 1L8.5 8.5l.94-2.06 2.06-.94-2.06-.94L8.5 2.5l-.94 2.06-2.06.94zm10 10l.94 2.06.94-2.06 2.06-.94-2.06-.94-.94-2.06-.94 2.06-2.06.94z\"/><path d=\"M17.41 7.96l-1.37-1.37c-.4-.4-.92-.59-1.43-.59-.52 0-1.04.2-1.43.59L10.3 9.45l-7.72 7.72c-.78.78-.78 2.05 0 2.83L4 21.41c.39.39.9.59 1.41.59.51 0 1.02-.2 1.41-.59l7.78-7.78 2.81-2.81c.8-.78.8-2.07 0-2.86zM5.41 20L4 18.59l7.72-7.72 1.47 1.35L5.41 20z\"/>\n",
              "  </svg>\n",
              "      </button>\n",
              "      \n",
              "  <style>\n",
              "    .colab-df-container {\n",
              "      display:flex;\n",
              "      flex-wrap:wrap;\n",
              "      gap: 12px;\n",
              "    }\n",
              "\n",
              "    .colab-df-convert {\n",
              "      background-color: #E8F0FE;\n",
              "      border: none;\n",
              "      border-radius: 50%;\n",
              "      cursor: pointer;\n",
              "      display: none;\n",
              "      fill: #1967D2;\n",
              "      height: 32px;\n",
              "      padding: 0 0 0 0;\n",
              "      width: 32px;\n",
              "    }\n",
              "\n",
              "    .colab-df-convert:hover {\n",
              "      background-color: #E2EBFA;\n",
              "      box-shadow: 0px 1px 2px rgba(60, 64, 67, 0.3), 0px 1px 3px 1px rgba(60, 64, 67, 0.15);\n",
              "      fill: #174EA6;\n",
              "    }\n",
              "\n",
              "    [theme=dark] .colab-df-convert {\n",
              "      background-color: #3B4455;\n",
              "      fill: #D2E3FC;\n",
              "    }\n",
              "\n",
              "    [theme=dark] .colab-df-convert:hover {\n",
              "      background-color: #434B5C;\n",
              "      box-shadow: 0px 1px 3px 1px rgba(0, 0, 0, 0.15);\n",
              "      filter: drop-shadow(0px 1px 2px rgba(0, 0, 0, 0.3));\n",
              "      fill: #FFFFFF;\n",
              "    }\n",
              "  </style>\n",
              "\n",
              "      <script>\n",
              "        const buttonEl =\n",
              "          document.querySelector('#df-6f1f7d8a-823d-464d-bb07-ca4e388b8366 button.colab-df-convert');\n",
              "        buttonEl.style.display =\n",
              "          google.colab.kernel.accessAllowed ? 'block' : 'none';\n",
              "\n",
              "        async function convertToInteractive(key) {\n",
              "          const element = document.querySelector('#df-6f1f7d8a-823d-464d-bb07-ca4e388b8366');\n",
              "          const dataTable =\n",
              "            await google.colab.kernel.invokeFunction('convertToInteractive',\n",
              "                                                     [key], {});\n",
              "          if (!dataTable) return;\n",
              "\n",
              "          const docLinkHtml = 'Like what you see? Visit the ' +\n",
              "            '<a target=\"_blank\" href=https://colab.research.google.com/notebooks/data_table.ipynb>data table notebook</a>'\n",
              "            + ' to learn more about interactive tables.';\n",
              "          element.innerHTML = '';\n",
              "          dataTable['output_type'] = 'display_data';\n",
              "          await google.colab.output.renderOutput(dataTable, element);\n",
              "          const docLink = document.createElement('div');\n",
              "          docLink.innerHTML = docLinkHtml;\n",
              "          element.appendChild(docLink);\n",
              "        }\n",
              "      </script>\n",
              "    </div>\n",
              "  </div>\n",
              "  "
            ]
          },
          "metadata": {},
          "execution_count": 25
        }
      ]
    },
    {
      "cell_type": "code",
      "source": [
        "import seaborn as sns\n",
        "from sklearn.metrics import classification_report, confusion_matrix\n",
        "from sklearn import metrics\n",
        "import tensorflow as tf\n",
        "print(classification_report(y_pred, y_correct))\n",
        "cm = tf.math.confusion_matrix(y_pred, y_correct)\n",
        "\n",
        "plt.figure(figsize=(7,6))\n",
        "sns.heatmap(cm, annot=True, fmt='d')\n",
        "plt.xlabel('Predicted')\n",
        "plt.ylabel('Truth')"
      ],
      "metadata": {
        "colab": {
          "base_uri": "https://localhost:8080/",
          "height": 909
        },
        "id": "4d8RmtJIuAbd",
        "outputId": "d4cef7bc-498e-421c-90be-b2d9d62c1d38"
      },
      "execution_count": 26,
      "outputs": [
        {
          "output_type": "stream",
          "name": "stdout",
          "text": [
            "              precision    recall  f1-score   support\n",
            "\n",
            "           0       1.00      0.32      0.48        57\n",
            "           1       1.00      1.00      1.00        18\n",
            "           2       0.64      0.78      0.70        18\n",
            "           3       1.00      1.00      1.00        23\n",
            "           4       1.00      1.00      1.00        15\n",
            "           5       0.94      0.94      0.94        17\n",
            "           6       1.00      0.84      0.91        19\n",
            "           7       1.00      1.00      1.00        18\n",
            "           8       0.76      0.76      0.76        21\n",
            "           9       1.00      0.95      0.98        21\n",
            "          10       0.94      1.00      0.97        16\n",
            "          11       0.56      1.00      0.71        10\n",
            "          12       1.00      0.95      0.98        22\n",
            "          13       0.64      0.94      0.76        17\n",
            "          14       0.88      0.94      0.91        16\n",
            "          15       1.00      1.00      1.00        23\n",
            "          16       0.96      1.00      0.98        22\n",
            "          17       0.52      1.00      0.69        11\n",
            "          18       0.77      1.00      0.87        17\n",
            "          19       1.00      1.00      1.00        23\n",
            "          20       0.76      0.95      0.84        20\n",
            "          21       0.94      1.00      0.97        16\n",
            "\n",
            "    accuracy                           0.87       440\n",
            "   macro avg       0.88      0.93      0.88       440\n",
            "weighted avg       0.91      0.87      0.86       440\n",
            "\n"
          ]
        },
        {
          "output_type": "execute_result",
          "data": {
            "text/plain": [
              "Text(42.0, 0.5, 'Truth')"
            ]
          },
          "metadata": {},
          "execution_count": 26
        },
        {
          "output_type": "display_data",
          "data": {
            "text/plain": [
              "<Figure size 504x432 with 2 Axes>"
            ],
            "image/png": "[encoded data removed]"
          },
          "metadata": {
            "needs_background": "light"
          }
        }
      ]
    },
    {
      "cell_type": "code",
      "source": [
        "from sklearn.metrics import f1_score, accuracy_score, precision_score, recall_score\n",
        "from sklearn.metrics import mean_absolute_error, max_error, mean_squared_error, mean_absolute_percentage_error\n",
        "print(accuracy_score(y_pred, y_correct))\n",
        "print(mean_absolute_error(y_pred, y_correct))\n",
        "print(mean_squared_error(y_pred, y_correct))\n",
        "print(max_error(y_pred, y_correct))"
      ],
      "metadata": {
        "colab": {
          "base_uri": "https://localhost:8080/"
        },
        "id": "AuuCDc-yXHs7",
        "outputId": "247fcad5-2ffe-49f8-a82b-06b7eff64f46"
      },
      "execution_count": 27,
      "outputs": [
        {
          "output_type": "stream",
          "name": "stdout",
          "text": [
            "0.8704545454545455\n",
            "1.3818181818181818\n",
            "19.336363636363636\n",
            "21\n"
          ]
        }
      ]
    },
    {
      "cell_type": "markdown",
      "metadata": {
        "id": "gurXKf-w3u0x"
      },
      "source": [
        "# **Creating ANN Model**"
      ]
    },
    {
      "cell_type": "code",
      "execution_count": 28,
      "metadata": {
        "id": "VCl3zXH33u0y"
      },
      "outputs": [],
      "source": [
        "# creating model\n",
        "model = Sequential()\n",
        "\n",
        "# adding hidden layers with number of units and activation function.\n",
        "model.add(Dense(units = 64, activation = 'relu', input_dim = 7)) #hiddenlayer1 with and extra parameter input dimensions which is 16 in out case that is no. of features in training data.\n",
        "model.add(Dense(units = 32, activation = 'relu')) #hiddenlayer2\n",
        "model.add(Dense(units = 22, activation = 'sigmoid')) #outputlayer\n",
        "\n",
        "# compiling our model.\n",
        "model.compile(loss='categorical_crossentropy', optimizer='Adam', metrics=['accuracy']) #metrics are the list of parameters on which we test our model like accuracy."
      ]
    },
    {
      "cell_type": "code",
      "execution_count": 29,
      "metadata": {
        "colab": {
          "base_uri": "https://localhost:8080/"
        },
        "id": "BZwzAADw3u0y",
        "outputId": "74700e78-d063-4002-bf01-81d27c2eacac"
      },
      "outputs": [
        {
          "output_type": "stream",
          "name": "stdout",
          "text": [
            "Epoch 1/40\n",
            "220/220 [==============================] - 2s 3ms/step - loss: 6.5636 - accuracy: 0.3699 - val_loss: 0.9116 - val_accuracy: 0.7295\n",
            "Epoch 2/40\n",
            "220/220 [==============================] - 1s 3ms/step - loss: 0.6588 - accuracy: 0.7920 - val_loss: 0.4539 - val_accuracy: 0.8545\n",
            "Epoch 3/40\n",
            "220/220 [==============================] - 1s 3ms/step - loss: 0.3630 - accuracy: 0.8869 - val_loss: 0.3091 - val_accuracy: 0.9068\n",
            "Epoch 4/40\n",
            "220/220 [==============================] - 1s 3ms/step - loss: 0.2895 - accuracy: 0.9085 - val_loss: 0.5154 - val_accuracy: 0.8727\n",
            "Epoch 5/40\n",
            "220/220 [==============================] - 1s 3ms/step - loss: 0.2308 - accuracy: 0.9239 - val_loss: 0.2110 - val_accuracy: 0.9205\n",
            "Epoch 6/40\n",
            "220/220 [==============================] - 1s 3ms/step - loss: 0.1954 - accuracy: 0.9358 - val_loss: 0.2329 - val_accuracy: 0.9182\n",
            "Epoch 7/40\n",
            "220/220 [==============================] - 1s 3ms/step - loss: 0.1788 - accuracy: 0.9392 - val_loss: 0.1603 - val_accuracy: 0.9432\n",
            "Epoch 8/40\n",
            "220/220 [==============================] - 1s 3ms/step - loss: 0.1904 - accuracy: 0.9318 - val_loss: 0.2643 - val_accuracy: 0.9068\n",
            "Epoch 9/40\n",
            "220/220 [==============================] - 1s 3ms/step - loss: 0.1807 - accuracy: 0.9381 - val_loss: 0.1685 - val_accuracy: 0.9500\n",
            "Epoch 10/40\n",
            "220/220 [==============================] - 1s 3ms/step - loss: 0.1514 - accuracy: 0.9517 - val_loss: 0.1568 - val_accuracy: 0.9432\n",
            "Epoch 11/40\n",
            "220/220 [==============================] - 1s 3ms/step - loss: 0.1674 - accuracy: 0.9460 - val_loss: 0.1732 - val_accuracy: 0.9364\n",
            "Epoch 12/40\n",
            "220/220 [==============================] - 1s 3ms/step - loss: 0.1598 - accuracy: 0.9449 - val_loss: 0.2218 - val_accuracy: 0.9205\n",
            "Epoch 13/40\n",
            "220/220 [==============================] - 1s 3ms/step - loss: 0.1766 - accuracy: 0.9403 - val_loss: 0.1370 - val_accuracy: 0.9409\n",
            "Epoch 14/40\n",
            "220/220 [==============================] - 1s 3ms/step - loss: 0.1394 - accuracy: 0.9534 - val_loss: 0.1596 - val_accuracy: 0.9386\n",
            "Epoch 15/40\n",
            "220/220 [==============================] - 1s 2ms/step - loss: 0.1291 - accuracy: 0.9511 - val_loss: 0.1663 - val_accuracy: 0.9386\n",
            "Epoch 16/40\n",
            "220/220 [==============================] - 1s 2ms/step - loss: 0.1237 - accuracy: 0.9580 - val_loss: 0.1424 - val_accuracy: 0.9591\n",
            "Epoch 17/40\n",
            "220/220 [==============================] - 1s 2ms/step - loss: 0.1375 - accuracy: 0.9534 - val_loss: 0.1968 - val_accuracy: 0.9318\n",
            "Epoch 18/40\n",
            "220/220 [==============================] - 1s 3ms/step - loss: 0.1304 - accuracy: 0.9528 - val_loss: 0.1330 - val_accuracy: 0.9500\n",
            "Epoch 19/40\n",
            "220/220 [==============================] - 1s 2ms/step - loss: 0.1363 - accuracy: 0.9420 - val_loss: 0.2780 - val_accuracy: 0.9045\n",
            "Epoch 20/40\n",
            "220/220 [==============================] - 0s 2ms/step - loss: 0.1809 - accuracy: 0.9392 - val_loss: 0.1038 - val_accuracy: 0.9614\n",
            "Epoch 21/40\n",
            "220/220 [==============================] - 1s 3ms/step - loss: 0.1274 - accuracy: 0.9517 - val_loss: 0.2538 - val_accuracy: 0.9227\n",
            "Epoch 22/40\n",
            "220/220 [==============================] - 1s 2ms/step - loss: 0.1120 - accuracy: 0.9580 - val_loss: 0.1787 - val_accuracy: 0.9455\n",
            "Epoch 23/40\n",
            "220/220 [==============================] - 1s 3ms/step - loss: 0.1097 - accuracy: 0.9631 - val_loss: 0.1159 - val_accuracy: 0.9386\n",
            "Epoch 24/40\n",
            "220/220 [==============================] - 1s 2ms/step - loss: 0.1148 - accuracy: 0.9540 - val_loss: 0.1276 - val_accuracy: 0.9523\n",
            "Epoch 25/40\n",
            "220/220 [==============================] - 1s 3ms/step - loss: 0.1009 - accuracy: 0.9614 - val_loss: 0.1171 - val_accuracy: 0.9545\n",
            "Epoch 26/40\n",
            "220/220 [==============================] - 1s 2ms/step - loss: 0.1044 - accuracy: 0.9642 - val_loss: 0.2238 - val_accuracy: 0.9295\n",
            "Epoch 27/40\n",
            "220/220 [==============================] - 1s 2ms/step - loss: 0.1170 - accuracy: 0.9574 - val_loss: 0.1112 - val_accuracy: 0.9545\n",
            "Epoch 28/40\n",
            "220/220 [==============================] - 1s 3ms/step - loss: 0.1224 - accuracy: 0.9511 - val_loss: 0.1929 - val_accuracy: 0.9341\n",
            "Epoch 29/40\n",
            "220/220 [==============================] - 1s 3ms/step - loss: 0.1205 - accuracy: 0.9551 - val_loss: 0.1100 - val_accuracy: 0.9636\n",
            "Epoch 30/40\n",
            "220/220 [==============================] - 1s 3ms/step - loss: 0.1062 - accuracy: 0.9580 - val_loss: 0.1400 - val_accuracy: 0.9568\n",
            "Epoch 31/40\n",
            "220/220 [==============================] - 1s 3ms/step - loss: 0.0953 - accuracy: 0.9648 - val_loss: 0.1309 - val_accuracy: 0.9523\n",
            "Epoch 32/40\n",
            "220/220 [==============================] - 1s 3ms/step - loss: 0.1364 - accuracy: 0.9557 - val_loss: 0.1121 - val_accuracy: 0.9682\n",
            "Epoch 33/40\n",
            "220/220 [==============================] - 1s 3ms/step - loss: 0.0959 - accuracy: 0.9636 - val_loss: 0.1174 - val_accuracy: 0.9545\n",
            "Epoch 34/40\n",
            "220/220 [==============================] - 1s 3ms/step - loss: 0.1076 - accuracy: 0.9602 - val_loss: 0.1467 - val_accuracy: 0.9500\n",
            "Epoch 35/40\n",
            "220/220 [==============================] - 1s 3ms/step - loss: 0.0824 - accuracy: 0.9744 - val_loss: 0.0941 - val_accuracy: 0.9682\n",
            "Epoch 36/40\n",
            "220/220 [==============================] - 1s 3ms/step - loss: 0.0808 - accuracy: 0.9676 - val_loss: 0.1897 - val_accuracy: 0.9386\n",
            "Epoch 37/40\n",
            "220/220 [==============================] - 1s 3ms/step - loss: 0.0925 - accuracy: 0.9670 - val_loss: 0.1067 - val_accuracy: 0.9545\n",
            "Epoch 38/40\n",
            "220/220 [==============================] - 1s 3ms/step - loss: 0.0904 - accuracy: 0.9659 - val_loss: 0.2221 - val_accuracy: 0.9386\n",
            "Epoch 39/40\n",
            "220/220 [==============================] - 1s 3ms/step - loss: 0.0985 - accuracy: 0.9642 - val_loss: 0.1862 - val_accuracy: 0.9364\n",
            "Epoch 40/40\n",
            "220/220 [==============================] - 1s 3ms/step - loss: 0.0946 - accuracy: 0.9642 - val_loss: 0.1051 - val_accuracy: 0.9545\n"
          ]
        },
        {
          "output_type": "execute_result",
          "data": {
            "text/plain": [
              "<keras.callbacks.History at 0x7f49ba0d4f90>"
            ]
          },
          "metadata": {},
          "execution_count": 29
        }
      ],
      "source": [
        "# fitting data to train our model and then validating score with validation_data.\n",
        "model.fit(x_train, y_train, epochs=40, batch_size=8, validation_data=(x_test, y_test))"
      ]
    },
    {
      "cell_type": "code",
      "execution_count": 30,
      "metadata": {
        "colab": {
          "base_uri": "https://localhost:8080/"
        },
        "id": "W4Yu907t3u0z",
        "outputId": "2b7c1ce7-4678-455d-b98b-28eb91b7b04f"
      },
      "outputs": [
        {
          "output_type": "stream",
          "name": "stdout",
          "text": [
            "14/14 [==============================] - 0s 2ms/step - loss: 0.1051 - accuracy: 0.9545\n",
            "0.9545454382896423\n"
          ]
        }
      ],
      "source": [
        "# printing score with evaluate\n",
        "print(model.evaluate(x_test, y_test)[1])"
      ]
    },
    {
      "cell_type": "code",
      "execution_count": 31,
      "metadata": {
        "colab": {
          "base_uri": "https://localhost:8080/",
          "height": 424
        },
        "id": "kVfQodh93u0z",
        "outputId": "250807db-4d2b-47f3-807d-9889f54b1942"
      },
      "outputs": [
        {
          "output_type": "execute_result",
          "data": {
            "text/plain": [
              "     Pred_class  Correct_class\n",
              "0            21             21\n",
              "1            21             21\n",
              "2             0              7\n",
              "3             3              3\n",
              "4             2              2\n",
              "..          ...            ...\n",
              "435          18             18\n",
              "436           1              1\n",
              "437           6              6\n",
              "438           2              2\n",
              "439           0              0\n",
              "\n",
              "[440 rows x 2 columns]"
            ],
            "text/html": [
              "\n",
              "  <div id=\"df-310f3409-ccd0-470c-bd5d-a09de5558ba5\">\n",
              "    <div class=\"colab-df-container\">\n",
              "      <div>\n",
              "<style scoped>\n",
              "    .dataframe tbody tr th:only-of-type {\n",
              "        vertical-align: middle;\n",
              "    }\n",
              "\n",
              "    .dataframe tbody tr th {\n",
              "        vertical-align: top;\n",
              "    }\n",
              "\n",
              "    .dataframe thead th {\n",
              "        text-align: right;\n",
              "    }\n",
              "</style>\n",
              "<table border=\"1\" class=\"dataframe\">\n",
              "  <thead>\n",
              "    <tr style=\"text-align: right;\">\n",
              "      <th></th>\n",
              "      <th>Pred_class</th>\n",
              "      <th>Correct_class</th>\n",
              "    </tr>\n",
              "  </thead>\n",
              "  <tbody>\n",
              "    <tr>\n",
              "      <th>0</th>\n",
              "      <td>21</td>\n",
              "      <td>21</td>\n",
              "    </tr>\n",
              "    <tr>\n",
              "      <th>1</th>\n",
              "      <td>21</td>\n",
              "      <td>21</td>\n",
              "    </tr>\n",
              "    <tr>\n",
              "      <th>2</th>\n",
              "      <td>0</td>\n",
              "      <td>7</td>\n",
              "    </tr>\n",
              "    <tr>\n",
              "      <th>3</th>\n",
              "      <td>3</td>\n",
              "      <td>3</td>\n",
              "    </tr>\n",
              "    <tr>\n",
              "      <th>4</th>\n",
              "      <td>2</td>\n",
              "      <td>2</td>\n",
              "    </tr>\n",
              "    <tr>\n",
              "      <th>...</th>\n",
              "      <td>...</td>\n",
              "      <td>...</td>\n",
              "    </tr>\n",
              "    <tr>\n",
              "      <th>435</th>\n",
              "      <td>18</td>\n",
              "      <td>18</td>\n",
              "    </tr>\n",
              "    <tr>\n",
              "      <th>436</th>\n",
              "      <td>1</td>\n",
              "      <td>1</td>\n",
              "    </tr>\n",
              "    <tr>\n",
              "      <th>437</th>\n",
              "      <td>6</td>\n",
              "      <td>6</td>\n",
              "    </tr>\n",
              "    <tr>\n",
              "      <th>438</th>\n",
              "      <td>2</td>\n",
              "      <td>2</td>\n",
              "    </tr>\n",
              "    <tr>\n",
              "      <th>439</th>\n",
              "      <td>0</td>\n",
              "      <td>0</td>\n",
              "    </tr>\n",
              "  </tbody>\n",
              "</table>\n",
              "<p>440 rows × 2 columns</p>\n",
              "</div>\n",
              "      <button class=\"colab-df-convert\" onclick=\"convertToInteractive('df-310f3409-ccd0-470c-bd5d-a09de5558ba5')\"\n",
              "              title=\"Convert this dataframe to an interactive table.\"\n",
              "              style=\"display:none;\">\n",
              "        \n",
              "  <svg xmlns=\"http://www.w3.org/2000/svg\" height=\"24px\"viewBox=\"0 0 24 24\"\n",
              "       width=\"24px\">\n",
              "    <path d=\"M0 0h24v24H0V0z\" fill=\"none\"/>\n",
              "    <path d=\"M18.56 5.44l.94 2.06.94-2.06 2.06-.94-2.06-.94-.94-2.06-.94 2.06-2.06.94zm-11 1L8.5 8.5l.94-2.06 2.06-.94-2.06-.94L8.5 2.5l-.94 2.06-2.06.94zm10 10l.94 2.06.94-2.06 2.06-.94-2.06-.94-.94-2.06-.94 2.06-2.06.94z\"/><path d=\"M17.41 7.96l-1.37-1.37c-.4-.4-.92-.59-1.43-.59-.52 0-1.04.2-1.43.59L10.3 9.45l-7.72 7.72c-.78.78-.78 2.05 0 2.83L4 21.41c.39.39.9.59 1.41.59.51 0 1.02-.2 1.41-.59l7.78-7.78 2.81-2.81c.8-.78.8-2.07 0-2.86zM5.41 20L4 18.59l7.72-7.72 1.47 1.35L5.41 20z\"/>\n",
              "  </svg>\n",
              "      </button>\n",
              "      \n",
              "  <style>\n",
              "    .colab-df-container {\n",
              "      display:flex;\n",
              "      flex-wrap:wrap;\n",
              "      gap: 12px;\n",
              "    }\n",
              "\n",
              "    .colab-df-convert {\n",
              "      background-color: #E8F0FE;\n",
              "      border: none;\n",
              "      border-radius: 50%;\n",
              "      cursor: pointer;\n",
              "      display: none;\n",
              "      fill: #1967D2;\n",
              "      height: 32px;\n",
              "      padding: 0 0 0 0;\n",
              "      width: 32px;\n",
              "    }\n",
              "\n",
              "    .colab-df-convert:hover {\n",
              "      background-color: #E2EBFA;\n",
              "      box-shadow: 0px 1px 2px rgba(60, 64, 67, 0.3), 0px 1px 3px 1px rgba(60, 64, 67, 0.15);\n",
              "      fill: #174EA6;\n",
              "    }\n",
              "\n",
              "    [theme=dark] .colab-df-convert {\n",
              "      background-color: #3B4455;\n",
              "      fill: #D2E3FC;\n",
              "    }\n",
              "\n",
              "    [theme=dark] .colab-df-convert:hover {\n",
              "      background-color: #434B5C;\n",
              "      box-shadow: 0px 1px 3px 1px rgba(0, 0, 0, 0.15);\n",
              "      filter: drop-shadow(0px 1px 2px rgba(0, 0, 0, 0.3));\n",
              "      fill: #FFFFFF;\n",
              "    }\n",
              "  </style>\n",
              "\n",
              "      <script>\n",
              "        const buttonEl =\n",
              "          document.querySelector('#df-310f3409-ccd0-470c-bd5d-a09de5558ba5 button.colab-df-convert');\n",
              "        buttonEl.style.display =\n",
              "          google.colab.kernel.accessAllowed ? 'block' : 'none';\n",
              "\n",
              "        async function convertToInteractive(key) {\n",
              "          const element = document.querySelector('#df-310f3409-ccd0-470c-bd5d-a09de5558ba5');\n",
              "          const dataTable =\n",
              "            await google.colab.kernel.invokeFunction('convertToInteractive',\n",
              "                                                     [key], {});\n",
              "          if (!dataTable) return;\n",
              "\n",
              "          const docLinkHtml = 'Like what you see? Visit the ' +\n",
              "            '<a target=\"_blank\" href=https://colab.research.google.com/notebooks/data_table.ipynb>data table notebook</a>'\n",
              "            + ' to learn more about interactive tables.';\n",
              "          element.innerHTML = '';\n",
              "          dataTable['output_type'] = 'display_data';\n",
              "          await google.colab.output.renderOutput(dataTable, element);\n",
              "          const docLink = document.createElement('div');\n",
              "          docLink.innerHTML = docLinkHtml;\n",
              "          element.appendChild(docLink);\n",
              "        }\n",
              "      </script>\n",
              "    </div>\n",
              "  </div>\n",
              "  "
            ]
          },
          "metadata": {},
          "execution_count": 31
        }
      ],
      "source": [
        "y_pred_con = model.predict(x_test)\n",
        "y_pred, y_correct = [], []\n",
        "\n",
        "for i in y_test:\n",
        "    y_correct.append(np.argmax(i))\n",
        "for j in y_pred_con:\n",
        "    y_pred.append(np.argmax(j))\n",
        "    \n",
        "pred_df = pd.DataFrame()\n",
        "pred_df['Pred_class'] = y_pred\n",
        "pred_df['Correct_class'] = y_correct\n",
        "pred_df"
      ]
    },
    {
      "cell_type": "code",
      "execution_count": 32,
      "metadata": {
        "id": "2uUfr9I23u0z",
        "outputId": "ef2acdf5-ab9e-4c5f-91eb-832191a36283",
        "colab": {
          "base_uri": "https://localhost:8080/"
        }
      },
      "outputs": [
        {
          "output_type": "execute_result",
          "data": {
            "text/plain": [
              "array([[18,  0,  0,  0,  0,  0,  0, 18,  0,  0,  0,  0,  0,  0,  0,  0,\n",
              "         0,  0,  0,  0,  0,  0],\n",
              "       [ 0, 18,  0,  0,  0,  0,  0,  0,  0,  0,  0,  0,  0,  0,  0,  0,\n",
              "         0,  0,  0,  0,  0,  0],\n",
              "       [ 0,  0, 19,  0,  0,  0,  0,  0,  0,  0,  0,  0,  0,  2,  0,  0,\n",
              "         0,  0,  0,  0,  0,  0],\n",
              "       [ 0,  0,  0, 23,  0,  0,  0,  0,  0,  0,  0,  0,  0,  0,  0,  0,\n",
              "         0,  0,  0,  0,  0,  0],\n",
              "       [ 0,  0,  0,  0, 15,  0,  0,  0,  0,  0,  0,  0,  0,  0,  0,  0,\n",
              "         0,  0,  0,  0,  0,  0],\n",
              "       [ 0,  0,  0,  0,  0, 17,  0,  0,  0,  0,  0,  0,  0,  0,  0,  0,\n",
              "         0,  0,  0,  0,  0,  0],\n",
              "       [ 0,  0,  0,  0,  0,  0, 15,  0,  0,  0,  0,  2,  0,  0,  0,  0,\n",
              "         0,  0,  0,  0,  0,  0],\n",
              "       [ 0,  0,  0,  0,  0,  0,  0,  0,  0,  0,  0,  0,  0,  0,  0,  0,\n",
              "         0,  0,  0,  0,  0,  0],\n",
              "       [ 0,  0,  0,  0,  0,  0,  0,  0, 21,  0,  0,  0,  0,  0,  0,  0,\n",
              "         0,  0,  0,  0, 25,  0],\n",
              "       [ 0,  0,  0,  0,  0,  0,  0,  0,  0, 20,  0,  0,  0,  0,  0,  0,\n",
              "         0,  0,  0,  0,  0,  0],\n",
              "       [ 0,  0,  0,  0,  0,  0,  0,  0,  0,  0, 16,  0,  0,  0,  0,  0,\n",
              "         0,  0,  0,  0,  0,  0],\n",
              "       [ 0,  0,  0,  0,  0,  0,  1,  0,  0,  0,  0, 16,  0,  0,  0,  0,\n",
              "         0,  0,  0,  0,  0,  0],\n",
              "       [ 0,  0,  0,  0,  0,  0,  0,  0,  0,  0,  0,  0, 21,  0,  0,  0,\n",
              "         0,  1,  0,  0,  0,  0],\n",
              "       [ 0,  0,  3,  0,  0,  0,  0,  0,  0,  0,  1,  0,  0, 23,  0,  0,\n",
              "         0,  1,  0,  0,  0,  0],\n",
              "       [ 0,  0,  0,  0,  0,  0,  0,  0,  0,  0,  0,  0,  0,  0, 17,  0,\n",
              "         3,  0,  0,  0,  0,  0],\n",
              "       [ 0,  0,  0,  0,  0,  0,  0,  0,  0,  0,  0,  0,  0,  0,  0, 23,\n",
              "         0,  0,  0,  0,  0,  3],\n",
              "       [ 0,  0,  0,  0,  0,  0,  0,  0,  0,  0,  0,  0,  0,  0,  0,  0,\n",
              "        20,  0,  0,  0,  0,  0],\n",
              "       [ 0,  0,  0,  0,  0,  0,  0,  0,  0,  0,  0,  0,  0,  0,  0,  0,\n",
              "         0, 19,  0,  0,  0,  0],\n",
              "       [ 0,  0,  0,  0,  0,  0,  0,  0,  0,  0,  0,  0,  0,  0,  0,  0,\n",
              "         0,  0, 22,  0,  0,  0],\n",
              "       [ 0,  0,  0,  0,  0,  0,  0,  0,  0,  0,  0,  0,  0,  0,  0,  0,\n",
              "         0,  0,  0, 23,  0,  0],\n",
              "       [ 0,  0,  0,  0,  0,  0,  0,  0,  0,  0,  0,  0,  0,  0,  0,  0,\n",
              "         0,  0,  0,  0,  0,  0],\n",
              "       [ 0,  0,  0,  0,  0,  0,  0,  0,  0,  0,  0,  0,  0,  0,  0,  0,\n",
              "         0,  0,  0,  0,  0, 14]])"
            ]
          },
          "metadata": {},
          "execution_count": 32
        }
      ],
      "source": [
        "confusion_matrix(y_pred, y_correct)"
      ]
    },
    {
      "cell_type": "code",
      "source": [
        "import seaborn as sns\n",
        "from sklearn.metrics import classification_report, confusion_matrix\n",
        "from sklearn import metrics\n",
        "import tensorflow as tf\n",
        "print(classification_report(y_pred, y_correct))\n",
        "cm = tf.math.confusion_matrix(y_pred, y_correct)\n",
        "\n",
        "plt.figure(figsize=(7,6))\n",
        "sns.heatmap(cm, annot=True, fmt='d')\n",
        "plt.xlabel('Predicted')\n",
        "plt.ylabel('Truth')"
      ],
      "metadata": {
        "colab": {
          "base_uri": "https://localhost:8080/",
          "height": 1000
        },
        "id": "sFZpB218Zqkc",
        "outputId": "0c8d1b10-8484-42ba-e5e6-8a867f9cdba1"
      },
      "execution_count": 33,
      "outputs": [
        {
          "output_type": "stream",
          "name": "stderr",
          "text": [
            "/usr/local/lib/python3.7/dist-packages/sklearn/metrics/_classification.py:1318: UndefinedMetricWarning: Recall and F-score are ill-defined and being set to 0.0 in labels with no true samples. Use `zero_division` parameter to control this behavior.\n",
            "  _warn_prf(average, modifier, msg_start, len(result))\n",
            "/usr/local/lib/python3.7/dist-packages/sklearn/metrics/_classification.py:1318: UndefinedMetricWarning: Recall and F-score are ill-defined and being set to 0.0 in labels with no true samples. Use `zero_division` parameter to control this behavior.\n",
            "  _warn_prf(average, modifier, msg_start, len(result))\n",
            "/usr/local/lib/python3.7/dist-packages/sklearn/metrics/_classification.py:1318: UndefinedMetricWarning: Recall and F-score are ill-defined and being set to 0.0 in labels with no true samples. Use `zero_division` parameter to control this behavior.\n",
            "  _warn_prf(average, modifier, msg_start, len(result))\n"
          ]
        },
        {
          "output_type": "stream",
          "name": "stdout",
          "text": [
            "              precision    recall  f1-score   support\n",
            "\n",
            "           0       1.00      0.50      0.67        36\n",
            "           1       1.00      1.00      1.00        18\n",
            "           2       0.86      0.90      0.88        21\n",
            "           3       1.00      1.00      1.00        23\n",
            "           4       1.00      1.00      1.00        15\n",
            "           5       1.00      1.00      1.00        17\n",
            "           6       0.94      0.88      0.91        17\n",
            "           7       0.00      0.00      0.00         0\n",
            "           8       1.00      0.46      0.63        46\n",
            "           9       1.00      1.00      1.00        20\n",
            "          10       0.94      1.00      0.97        16\n",
            "          11       0.89      0.94      0.91        17\n",
            "          12       1.00      0.95      0.98        22\n",
            "          13       0.92      0.82      0.87        28\n",
            "          14       1.00      0.85      0.92        20\n",
            "          15       1.00      0.88      0.94        26\n",
            "          16       0.87      1.00      0.93        20\n",
            "          17       0.90      1.00      0.95        19\n",
            "          18       1.00      1.00      1.00        22\n",
            "          19       1.00      1.00      1.00        23\n",
            "          20       0.00      0.00      0.00         0\n",
            "          21       0.82      1.00      0.90        14\n",
            "\n",
            "    accuracy                           0.86       440\n",
            "   macro avg       0.87      0.83      0.84       440\n",
            "weighted avg       0.96      0.86      0.89       440\n",
            "\n"
          ]
        },
        {
          "output_type": "execute_result",
          "data": {
            "text/plain": [
              "Text(42.0, 0.5, 'Truth')"
            ]
          },
          "metadata": {},
          "execution_count": 33
        },
        {
          "output_type": "display_data",
          "data": {
            "text/plain": [
              "<Figure size 504x432 with 2 Axes>"
            ],
            "image/png": "[encoded data removed]"
          },
          "metadata": {
            "needs_background": "light"
          }
        }
      ]
    },
    {
      "cell_type": "code",
      "source": [
        "from sklearn.metrics import f1_score, accuracy_score, precision_score, recall_score\n",
        "from sklearn.metrics import mean_absolute_error, max_error, mean_squared_error, mean_absolute_percentage_error\n",
        "print(accuracy_score(y_pred, y_correct))\n",
        "print(mean_absolute_error(y_pred, y_correct))\n",
        "print(mean_squared_error(y_pred, y_correct))\n",
        "print(max_error(y_pred, y_correct))"
      ],
      "metadata": {
        "colab": {
          "base_uri": "https://localhost:8080/"
        },
        "id": "NZhm775rZlrr",
        "outputId": "e8e54f53-1c8e-413d-b2ed-7e44c8e549e0"
      },
      "execution_count": 34,
      "outputs": [
        {
          "output_type": "stream",
          "name": "stdout",
          "text": [
            "0.8636363636363636\n",
            "1.209090909090909\n",
            "12.118181818181819\n",
            "12\n"
          ]
        }
      ]
    },
    {
      "cell_type": "markdown",
      "metadata": {
        "id": "TXCvGMZ6NkEQ"
      },
      "source": [
        "# **CREATING RNN MODEL**"
      ]
    },
    {
      "cell_type": "code",
      "execution_count": 46,
      "metadata": {
        "id": "lGvK9oZS3u0z"
      },
      "outputs": [],
      "source": [
        "from keras.layers import Flatten\n",
        "model = Sequential()\n",
        "\n",
        "# adding hidden layers with number of units and activation function.\n",
        "model.add(LSTM(units = 64, activation = 'relu',input_shape=(7,1))) #hiddenlayer1 with and extra parameter input dimensions which is 16 in out case that is no. of features in training data.\n",
        "model.add(Flatten())\n",
        "model.add(Dense(units = 32, activation = 'relu')) #hiddenlayer2\n",
        "model.add(Dense(units = 22, activation = 'sigmoid')) #outputlayer\n",
        "\n",
        "# compiling our model.\n",
        "model.compile(loss='categorical_crossentropy', optimizer='Adam', metrics=['accuracy']) #metrics are the list of parameters on which we test our model like accuracy."
      ]
    },
    {
      "cell_type": "code",
      "source": [
        "# fitting data to train our model and then validating score with validation_data.\n",
        "model.fit(x_train, y_train, epochs=40, batch_size=8, validation_data=(x_test, y_test))"
      ],
      "metadata": {
        "colab": {
          "base_uri": "https://localhost:8080/"
        },
        "id": "Gm7yQ55Xs-lr",
        "outputId": "25fd74db-5250-4076-f518-36488d8de244"
      },
      "execution_count": 47,
      "outputs": [
        {
          "output_type": "stream",
          "name": "stdout",
          "text": [
            "Epoch 1/40\n",
            "220/220 [==============================] - 3s 8ms/step - loss: 2.3259 - accuracy: 0.3466 - val_loss: 0.7662 - val_accuracy: 0.7500\n",
            "Epoch 2/40\n",
            "220/220 [==============================] - 1s 6ms/step - loss: 0.5240 - accuracy: 0.8131 - val_loss: 0.3054 - val_accuracy: 0.8659\n",
            "Epoch 3/40\n",
            "220/220 [==============================] - 1s 6ms/step - loss: 0.2717 - accuracy: 0.9006 - val_loss: 0.2103 - val_accuracy: 0.9159\n",
            "Epoch 4/40\n",
            "220/220 [==============================] - 1s 6ms/step - loss: 0.1883 - accuracy: 0.9301 - val_loss: 0.1832 - val_accuracy: 0.9318\n",
            "Epoch 5/40\n",
            "220/220 [==============================] - 1s 6ms/step - loss: 0.1514 - accuracy: 0.9386 - val_loss: 0.1691 - val_accuracy: 0.9250\n",
            "Epoch 6/40\n",
            "220/220 [==============================] - 1s 6ms/step - loss: 0.1582 - accuracy: 0.9432 - val_loss: 0.2055 - val_accuracy: 0.9341\n",
            "Epoch 7/40\n",
            "220/220 [==============================] - 1s 6ms/step - loss: 0.1667 - accuracy: 0.9381 - val_loss: 0.1592 - val_accuracy: 0.9318\n",
            "Epoch 8/40\n",
            "220/220 [==============================] - 2s 9ms/step - loss: 0.1348 - accuracy: 0.9523 - val_loss: 0.1076 - val_accuracy: 0.9614\n",
            "Epoch 9/40\n",
            "220/220 [==============================] - 2s 8ms/step - loss: 0.1239 - accuracy: 0.9540 - val_loss: 0.1027 - val_accuracy: 0.9591\n",
            "Epoch 10/40\n",
            "220/220 [==============================] - 1s 6ms/step - loss: 0.0962 - accuracy: 0.9648 - val_loss: 0.0882 - val_accuracy: 0.9705\n",
            "Epoch 11/40\n",
            "220/220 [==============================] - 1s 6ms/step - loss: 0.0933 - accuracy: 0.9653 - val_loss: 0.1460 - val_accuracy: 0.9409\n",
            "Epoch 12/40\n",
            "220/220 [==============================] - 1s 6ms/step - loss: 0.1263 - accuracy: 0.9506 - val_loss: 0.3427 - val_accuracy: 0.8750\n",
            "Epoch 13/40\n",
            "220/220 [==============================] - 1s 6ms/step - loss: 0.1833 - accuracy: 0.9381 - val_loss: 0.0811 - val_accuracy: 0.9727\n",
            "Epoch 14/40\n",
            "220/220 [==============================] - 1s 6ms/step - loss: 0.1466 - accuracy: 0.9477 - val_loss: 0.2786 - val_accuracy: 0.8955\n",
            "Epoch 15/40\n",
            "220/220 [==============================] - 1s 6ms/step - loss: 0.1377 - accuracy: 0.9500 - val_loss: 0.1010 - val_accuracy: 0.9659\n",
            "Epoch 16/40\n",
            "220/220 [==============================] - 1s 6ms/step - loss: 0.1007 - accuracy: 0.9648 - val_loss: 0.1223 - val_accuracy: 0.9500\n",
            "Epoch 17/40\n",
            "220/220 [==============================] - 1s 6ms/step - loss: 0.0998 - accuracy: 0.9670 - val_loss: 0.1162 - val_accuracy: 0.9523\n",
            "Epoch 18/40\n",
            "220/220 [==============================] - 1s 6ms/step - loss: 0.0971 - accuracy: 0.9636 - val_loss: 0.0672 - val_accuracy: 0.9818\n",
            "Epoch 19/40\n",
            "220/220 [==============================] - 1s 6ms/step - loss: 0.0824 - accuracy: 0.9659 - val_loss: 0.2312 - val_accuracy: 0.9182\n",
            "Epoch 20/40\n",
            "220/220 [==============================] - 1s 6ms/step - loss: 0.0746 - accuracy: 0.9670 - val_loss: 0.1165 - val_accuracy: 0.9591\n",
            "Epoch 21/40\n",
            "220/220 [==============================] - 1s 6ms/step - loss: 0.1032 - accuracy: 0.9614 - val_loss: 0.0798 - val_accuracy: 0.9682\n",
            "Epoch 22/40\n",
            "220/220 [==============================] - 1s 6ms/step - loss: 0.0651 - accuracy: 0.9693 - val_loss: 0.1262 - val_accuracy: 0.9409\n",
            "Epoch 23/40\n",
            "220/220 [==============================] - 1s 6ms/step - loss: 0.0994 - accuracy: 0.9614 - val_loss: 0.0848 - val_accuracy: 0.9682\n",
            "Epoch 24/40\n",
            "220/220 [==============================] - 1s 6ms/step - loss: 0.0846 - accuracy: 0.9676 - val_loss: 0.1715 - val_accuracy: 0.9500\n",
            "Epoch 25/40\n",
            "220/220 [==============================] - 1s 6ms/step - loss: 0.0931 - accuracy: 0.9670 - val_loss: 0.0589 - val_accuracy: 0.9795\n",
            "Epoch 26/40\n",
            "220/220 [==============================] - 1s 6ms/step - loss: 0.0715 - accuracy: 0.9727 - val_loss: 0.1105 - val_accuracy: 0.9614\n",
            "Epoch 27/40\n",
            "220/220 [==============================] - 1s 6ms/step - loss: 0.0878 - accuracy: 0.9693 - val_loss: 0.1773 - val_accuracy: 0.9364\n",
            "Epoch 28/40\n",
            "220/220 [==============================] - 1s 6ms/step - loss: 0.1242 - accuracy: 0.9557 - val_loss: 0.0883 - val_accuracy: 0.9727\n",
            "Epoch 29/40\n",
            "220/220 [==============================] - 1s 6ms/step - loss: 0.1368 - accuracy: 0.9568 - val_loss: 0.0612 - val_accuracy: 0.9705\n",
            "Epoch 30/40\n",
            "220/220 [==============================] - 1s 6ms/step - loss: 0.0525 - accuracy: 0.9790 - val_loss: 0.0582 - val_accuracy: 0.9773\n",
            "Epoch 31/40\n",
            "220/220 [==============================] - 1s 6ms/step - loss: 0.0756 - accuracy: 0.9699 - val_loss: 0.0496 - val_accuracy: 0.9795\n",
            "Epoch 32/40\n",
            "220/220 [==============================] - 1s 6ms/step - loss: 0.0592 - accuracy: 0.9784 - val_loss: 0.0724 - val_accuracy: 0.9750\n",
            "Epoch 33/40\n",
            "220/220 [==============================] - 1s 6ms/step - loss: 0.0804 - accuracy: 0.9693 - val_loss: 0.1201 - val_accuracy: 0.9545\n",
            "Epoch 34/40\n",
            "220/220 [==============================] - 1s 6ms/step - loss: 0.1011 - accuracy: 0.9648 - val_loss: 0.0947 - val_accuracy: 0.9591\n",
            "Epoch 35/40\n",
            "220/220 [==============================] - 1s 6ms/step - loss: 0.0660 - accuracy: 0.9744 - val_loss: 0.0423 - val_accuracy: 0.9841\n",
            "Epoch 36/40\n",
            "220/220 [==============================] - 1s 6ms/step - loss: 0.0551 - accuracy: 0.9767 - val_loss: 0.0902 - val_accuracy: 0.9705\n",
            "Epoch 37/40\n",
            "220/220 [==============================] - 1s 6ms/step - loss: 0.0644 - accuracy: 0.9767 - val_loss: 0.1384 - val_accuracy: 0.9523\n",
            "Epoch 38/40\n",
            "220/220 [==============================] - 1s 6ms/step - loss: 0.0849 - accuracy: 0.9688 - val_loss: 0.1245 - val_accuracy: 0.9523\n",
            "Epoch 39/40\n",
            "220/220 [==============================] - 1s 6ms/step - loss: 0.0654 - accuracy: 0.9778 - val_loss: 0.0807 - val_accuracy: 0.9636\n",
            "Epoch 40/40\n",
            "220/220 [==============================] - 1s 6ms/step - loss: 0.0531 - accuracy: 0.9756 - val_loss: 0.1112 - val_accuracy: 0.9591\n"
          ]
        },
        {
          "output_type": "execute_result",
          "data": {
            "text/plain": [
              "<keras.callbacks.History at 0x7f49b4be7d10>"
            ]
          },
          "metadata": {},
          "execution_count": 47
        }
      ]
    },
    {
      "cell_type": "code",
      "source": [
        "y_pred_con = model.predict(x_test)\n",
        "y_pred, y_correct = [], []\n",
        "\n",
        "for i in y_test:\n",
        "    y_correct.append(np.argmax(i))\n",
        "for j in y_pred_con:\n",
        "    y_pred.append(np.argmax(j))\n",
        "    \n",
        "pred_df = pd.DataFrame()\n",
        "pred_df['Pred_class'] = y_pred\n",
        "pred_df['Correct_class'] = y_correct\n",
        "pred_df"
      ],
      "metadata": {
        "colab": {
          "base_uri": "https://localhost:8080/",
          "height": 424
        },
        "id": "un3XMGNGtLVS",
        "outputId": "2c5d7395-1c66-4caf-9253-eb9aef83f8f4"
      },
      "execution_count": 48,
      "outputs": [
        {
          "output_type": "execute_result",
          "data": {
            "text/plain": [
              "     Pred_class  Correct_class\n",
              "0            21             21\n",
              "1            21             21\n",
              "2             7              7\n",
              "3             3              3\n",
              "4             2              2\n",
              "..          ...            ...\n",
              "435          18             18\n",
              "436           1              1\n",
              "437           6              6\n",
              "438           2              2\n",
              "439           0              0\n",
              "\n",
              "[440 rows x 2 columns]"
            ],
            "text/html": [
              "\n",
              "  <div id=\"df-d1ac000b-1080-49b6-a01c-abcc87964ed8\">\n",
              "    <div class=\"colab-df-container\">\n",
              "      <div>\n",
              "<style scoped>\n",
              "    .dataframe tbody tr th:only-of-type {\n",
              "        vertical-align: middle;\n",
              "    }\n",
              "\n",
              "    .dataframe tbody tr th {\n",
              "        vertical-align: top;\n",
              "    }\n",
              "\n",
              "    .dataframe thead th {\n",
              "        text-align: right;\n",
              "    }\n",
              "</style>\n",
              "<table border=\"1\" class=\"dataframe\">\n",
              "  <thead>\n",
              "    <tr style=\"text-align: right;\">\n",
              "      <th></th>\n",
              "      <th>Pred_class</th>\n",
              "      <th>Correct_class</th>\n",
              "    </tr>\n",
              "  </thead>\n",
              "  <tbody>\n",
              "    <tr>\n",
              "      <th>0</th>\n",
              "      <td>21</td>\n",
              "      <td>21</td>\n",
              "    </tr>\n",
              "    <tr>\n",
              "      <th>1</th>\n",
              "      <td>21</td>\n",
              "      <td>21</td>\n",
              "    </tr>\n",
              "    <tr>\n",
              "      <th>2</th>\n",
              "      <td>7</td>\n",
              "      <td>7</td>\n",
              "    </tr>\n",
              "    <tr>\n",
              "      <th>3</th>\n",
              "      <td>3</td>\n",
              "      <td>3</td>\n",
              "    </tr>\n",
              "    <tr>\n",
              "      <th>4</th>\n",
              "      <td>2</td>\n",
              "      <td>2</td>\n",
              "    </tr>\n",
              "    <tr>\n",
              "      <th>...</th>\n",
              "      <td>...</td>\n",
              "      <td>...</td>\n",
              "    </tr>\n",
              "    <tr>\n",
              "      <th>435</th>\n",
              "      <td>18</td>\n",
              "      <td>18</td>\n",
              "    </tr>\n",
              "    <tr>\n",
              "      <th>436</th>\n",
              "      <td>1</td>\n",
              "      <td>1</td>\n",
              "    </tr>\n",
              "    <tr>\n",
              "      <th>437</th>\n",
              "      <td>6</td>\n",
              "      <td>6</td>\n",
              "    </tr>\n",
              "    <tr>\n",
              "      <th>438</th>\n",
              "      <td>2</td>\n",
              "      <td>2</td>\n",
              "    </tr>\n",
              "    <tr>\n",
              "      <th>439</th>\n",
              "      <td>0</td>\n",
              "      <td>0</td>\n",
              "    </tr>\n",
              "  </tbody>\n",
              "</table>\n",
              "<p>440 rows × 2 columns</p>\n",
              "</div>\n",
              "      <button class=\"colab-df-convert\" onclick=\"convertToInteractive('df-d1ac000b-1080-49b6-a01c-abcc87964ed8')\"\n",
              "              title=\"Convert this dataframe to an interactive table.\"\n",
              "              style=\"display:none;\">\n",
              "        \n",
              "  <svg xmlns=\"http://www.w3.org/2000/svg\" height=\"24px\"viewBox=\"0 0 24 24\"\n",
              "       width=\"24px\">\n",
              "    <path d=\"M0 0h24v24H0V0z\" fill=\"none\"/>\n",
              "    <path d=\"M18.56 5.44l.94 2.06.94-2.06 2.06-.94-2.06-.94-.94-2.06-.94 2.06-2.06.94zm-11 1L8.5 8.5l.94-2.06 2.06-.94-2.06-.94L8.5 2.5l-.94 2.06-2.06.94zm10 10l.94 2.06.94-2.06 2.06-.94-2.06-.94-.94-2.06-.94 2.06-2.06.94z\"/><path d=\"M17.41 7.96l-1.37-1.37c-.4-.4-.92-.59-1.43-.59-.52 0-1.04.2-1.43.59L10.3 9.45l-7.72 7.72c-.78.78-.78 2.05 0 2.83L4 21.41c.39.39.9.59 1.41.59.51 0 1.02-.2 1.41-.59l7.78-7.78 2.81-2.81c.8-.78.8-2.07 0-2.86zM5.41 20L4 18.59l7.72-7.72 1.47 1.35L5.41 20z\"/>\n",
              "  </svg>\n",
              "      </button>\n",
              "      \n",
              "  <style>\n",
              "    .colab-df-container {\n",
              "      display:flex;\n",
              "      flex-wrap:wrap;\n",
              "      gap: 12px;\n",
              "    }\n",
              "\n",
              "    .colab-df-convert {\n",
              "      background-color: #E8F0FE;\n",
              "      border: none;\n",
              "      border-radius: 50%;\n",
              "      cursor: pointer;\n",
              "      display: none;\n",
              "      fill: #1967D2;\n",
              "      height: 32px;\n",
              "      padding: 0 0 0 0;\n",
              "      width: 32px;\n",
              "    }\n",
              "\n",
              "    .colab-df-convert:hover {\n",
              "      background-color: #E2EBFA;\n",
              "      box-shadow: 0px 1px 2px rgba(60, 64, 67, 0.3), 0px 1px 3px 1px rgba(60, 64, 67, 0.15);\n",
              "      fill: #174EA6;\n",
              "    }\n",
              "\n",
              "    [theme=dark] .colab-df-convert {\n",
              "      background-color: #3B4455;\n",
              "      fill: #D2E3FC;\n",
              "    }\n",
              "\n",
              "    [theme=dark] .colab-df-convert:hover {\n",
              "      background-color: #434B5C;\n",
              "      box-shadow: 0px 1px 3px 1px rgba(0, 0, 0, 0.15);\n",
              "      filter: drop-shadow(0px 1px 2px rgba(0, 0, 0, 0.3));\n",
              "      fill: #FFFFFF;\n",
              "    }\n",
              "  </style>\n",
              "\n",
              "      <script>\n",
              "        const buttonEl =\n",
              "          document.querySelector('#df-d1ac000b-1080-49b6-a01c-abcc87964ed8 button.colab-df-convert');\n",
              "        buttonEl.style.display =\n",
              "          google.colab.kernel.accessAllowed ? 'block' : 'none';\n",
              "\n",
              "        async function convertToInteractive(key) {\n",
              "          const element = document.querySelector('#df-d1ac000b-1080-49b6-a01c-abcc87964ed8');\n",
              "          const dataTable =\n",
              "            await google.colab.kernel.invokeFunction('convertToInteractive',\n",
              "                                                     [key], {});\n",
              "          if (!dataTable) return;\n",
              "\n",
              "          const docLinkHtml = 'Like what you see? Visit the ' +\n",
              "            '<a target=\"_blank\" href=https://colab.research.google.com/notebooks/data_table.ipynb>data table notebook</a>'\n",
              "            + ' to learn more about interactive tables.';\n",
              "          element.innerHTML = '';\n",
              "          dataTable['output_type'] = 'display_data';\n",
              "          await google.colab.output.renderOutput(dataTable, element);\n",
              "          const docLink = document.createElement('div');\n",
              "          docLink.innerHTML = docLinkHtml;\n",
              "          element.appendChild(docLink);\n",
              "        }\n",
              "      </script>\n",
              "    </div>\n",
              "  </div>\n",
              "  "
            ]
          },
          "metadata": {},
          "execution_count": 48
        }
      ]
    },
    {
      "cell_type": "code",
      "source": [
        "import seaborn as sns\n",
        "from sklearn.metrics import classification_report, confusion_matrix\n",
        "from sklearn import metrics\n",
        "import tensorflow as tf\n",
        "print(classification_report(y_pred, y_correct))\n",
        "cm = tf.math.confusion_matrix(y_pred, y_correct)\n",
        "\n",
        "plt.figure(figsize=(7,6))\n",
        "sns.heatmap(cm, annot=True, fmt='d')\n",
        "plt.xlabel('Predicted')\n",
        "plt.ylabel('Truth')"
      ],
      "metadata": {
        "colab": {
          "base_uri": "https://localhost:8080/",
          "height": 909
        },
        "id": "iY0H21Katk7s",
        "outputId": "b6699345-b906-4fc9-cc86-3283a46001c6"
      },
      "execution_count": 49,
      "outputs": [
        {
          "output_type": "stream",
          "name": "stdout",
          "text": [
            "              precision    recall  f1-score   support\n",
            "\n",
            "           0       1.00      1.00      1.00        18\n",
            "           1       1.00      1.00      1.00        18\n",
            "           2       1.00      0.85      0.92        26\n",
            "           3       1.00      1.00      1.00        23\n",
            "           4       1.00      1.00      1.00        15\n",
            "           5       1.00      1.00      1.00        17\n",
            "           6       1.00      0.94      0.97        17\n",
            "           7       1.00      1.00      1.00        18\n",
            "           8       0.81      0.89      0.85        19\n",
            "           9       1.00      1.00      1.00        20\n",
            "          10       1.00      0.71      0.83        24\n",
            "          11       0.94      1.00      0.97        17\n",
            "          12       1.00      1.00      1.00        21\n",
            "          13       0.56      1.00      0.72        14\n",
            "          14       1.00      1.00      1.00        17\n",
            "          15       1.00      1.00      1.00        23\n",
            "          16       1.00      1.00      1.00        23\n",
            "          17       1.00      1.00      1.00        21\n",
            "          18       1.00      1.00      1.00        22\n",
            "          19       1.00      1.00      1.00        23\n",
            "          20       0.92      0.85      0.88        27\n",
            "          21       1.00      1.00      1.00        17\n",
            "\n",
            "    accuracy                           0.96       440\n",
            "   macro avg       0.97      0.97      0.96       440\n",
            "weighted avg       0.97      0.96      0.96       440\n",
            "\n"
          ]
        },
        {
          "output_type": "execute_result",
          "data": {
            "text/plain": [
              "Text(42.0, 0.5, 'Truth')"
            ]
          },
          "metadata": {},
          "execution_count": 49
        },
        {
          "output_type": "display_data",
          "data": {
            "text/plain": [
              "<Figure size 504x432 with 2 Axes>"
            ],
            "image/png": "[encoded data removed]"
          },
          "metadata": {
            "needs_background": "light"
          }
        }
      ]
    },
    {
      "cell_type": "code",
      "source": [
        "from sklearn.metrics import f1_score, accuracy_score, precision_score, recall_score\n",
        "from sklearn.metrics import mean_absolute_error, max_error, mean_squared_error, mean_absolute_percentage_error\n",
        "print(accuracy_score(y_pred, y_correct))\n",
        "print(mean_absolute_error(y_pred, y_correct))\n",
        "print(mean_squared_error(y_pred, y_correct))\n",
        "print(max_error(y_pred, y_correct))"
      ],
      "metadata": {
        "colab": {
          "base_uri": "https://localhost:8080/"
        },
        "id": "MTCT2ru8t4uT",
        "outputId": "3b75f537-a0c8-4f78-e7a9-fd980f60b232"
      },
      "execution_count": 50,
      "outputs": [
        {
          "output_type": "stream",
          "name": "stdout",
          "text": [
            "0.9590909090909091\n",
            "0.32272727272727275\n",
            "3.2636363636363637\n",
            "12\n"
          ]
        }
      ]
    },
    {
      "cell_type": "code",
      "source": [
        ""
      ],
      "metadata": {
        "id": "xMnV5T-uctqe"
      },
      "execution_count": 54,
      "outputs": []
    }
  ],
  "metadata": {
    "colab": {
      "collapsed_sections": [],
      "name": "Fauzeeya_classification-using-keras.ipynb",
      "provenance": []
    },
    "kernelspec": {
      "display_name": "Python 3",
      "language": "python",
      "name": "python3"
    },
    "language_info": {
      "codemirror_mode": {
        "name": "ipython",
        "version": 3
      },
      "file_extension": ".py",
      "mimetype": "text/x-python",
      "name": "python",
      "nbconvert_exporter": "python",
      "pygments_lexer": "ipython3",
      "version": "3.6.4"
    }
  },
  "nbformat": 4,
  "nbformat_minor": 0
}